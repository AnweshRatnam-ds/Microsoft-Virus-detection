{
 "cells": [
  {
   "cell_type": "code",
   "execution_count": 79,
   "id": "54e968bc",
   "metadata": {},
   "outputs": [],
   "source": [
    "import pandas as pd\n",
    "ms_df=pd.read_csv('Microsoft_data.csv')\n",
    "ms_df_dup=ms_df.copy()"
   ]
  },
  {
   "cell_type": "code",
   "execution_count": 80,
   "id": "67f6c5f6",
   "metadata": {},
   "outputs": [],
   "source": [
    "# seperate cont. columns and categ. columns and fill the missing values\n",
    "\n",
    "con_cols_dup=[col for col in ms_df_dup.columns if ms_df_dup[col].dtype=='int64' or ms_df_dup[col].dtype=='float64']\n",
    "cat_cols_dup=[col for col in ms_df_dup.columns if ms_df_dup[col].dtype=='object']\n",
    "\n",
    "for col in con_cols_dup:\n",
    "    ms_df_dup[col].fillna(ms_df_dup[col].mean(),inplace=True)\n",
    "for col in cat_cols_dup:\n",
    "    ms_df_dup[col].fillna(ms_df_dup[col].mode()[0],inplace=True)\n",
    "\n",
    "#ms_df_dup"
   ]
  },
  {
   "cell_type": "code",
   "execution_count": 81,
   "id": "38c7e525",
   "metadata": {},
   "outputs": [],
   "source": [
    "#Anova logic - Take all cont. vriables and check correlation with output variable - HasDetections\n",
    "\n",
    "from scipy.stats import f_oneway\n",
    "import warnings\n",
    "warnings.filterwarnings('ignore')\n",
    "\n",
    "catg=ms_df_dup['HasDetections'].value_counts().index.tolist()\n",
    "\n",
    "catg\n",
    "\n",
    "def anova(col):\n",
    "    res=f_oneway(*[ms_df_dup[ms_df_dup['HasDetections']==cat][col]for cat in catg])\n",
    "    return res[1],col\n",
    "\n",
    "cont_data=[anova(col) for col in con_cols_dup]\n",
    "#cont_data"
   ]
  },
  {
   "cell_type": "code",
   "execution_count": 82,
   "id": "2a7df58c",
   "metadata": {},
   "outputs": [],
   "source": [
    "# take all correlated continous variables based on P-value < 0.05\n",
    "\n",
    "cont_col_df=pd.DataFrame(cont_data,columns=['p-value-an','col-name-an'])\n",
    "cont_col_df\n",
    "\n",
    "cont_corr_col=cont_col_df[cont_col_df['p-value-an']<0.05]\n",
    "cont_corr_col_names=list(cont_corr_col['col-name-an'])\n",
    "#cont_corr_col_names"
   ]
  },
  {
   "cell_type": "code",
   "execution_count": 83,
   "id": "616c62a3",
   "metadata": {},
   "outputs": [],
   "source": [
    "#Logic for Chi-squared test - Take all categ. variables and find the correlation with output variable - 'HasDetections'\n",
    "\n",
    "from scipy.stats import chi2_contingency\n",
    "\n",
    "def chisqr(catgr):\n",
    "    contingency_table=pd.crosstab(ms_df_dup[catgr],ms_df_dup['HasDetections'])\n",
    "    res2=chi2_contingency(contingency_table)\n",
    "    return res2[1],catgr\n",
    "    \n",
    "\n",
    "catg_data=[chisqr(catgr) for catgr in cat_cols_dup]\n",
    "#catg_data"
   ]
  },
  {
   "cell_type": "code",
   "execution_count": 84,
   "id": "d6b36952",
   "metadata": {},
   "outputs": [],
   "source": [
    "#Take all correlated categorical variables based on P-value - 0.05\n",
    "\n",
    "catg_col_df=pd.DataFrame(catg_data,columns=['p-value-ch','col-name-ch'])\n",
    "catg_corr_cols=catg_col_df[catg_col_df['p-value-ch']<0.05]\n",
    "catg_corr_col_names=list(catg_corr_cols['col-name-ch'])\n",
    "#catg_corr_col_names"
   ]
  },
  {
   "cell_type": "code",
   "execution_count": 85,
   "id": "acd34aee",
   "metadata": {},
   "outputs": [],
   "source": [
    "#Merge both Cont. categ. variable in 1 list\n",
    "\n",
    "cont_catg_corr_cols=cont_corr_col_names+catg_corr_col_names\n",
    "#cont_catg_corr_cols"
   ]
  },
  {
   "cell_type": "code",
   "execution_count": 86,
   "id": "95796eeb",
   "metadata": {},
   "outputs": [],
   "source": [
    "#Drop columns which are not exist in correlated fields list - We should have only correlated list\n",
    "ms_df.drop(columns=[col for col in ms_df.columns if col not in cont_catg_corr_cols],inplace=True)"
   ]
  },
  {
   "cell_type": "code",
   "execution_count": 87,
   "id": "a77f49c0",
   "metadata": {},
   "outputs": [],
   "source": [
    "# check null values in final list (Only having correlated columns)\n",
    "\n",
    "nainfo_df=pd.DataFrame({'col-name':ms_df.columns,\n",
    "            'na-count':ms_df.isnull().sum(),\n",
    "            'na-pc':ms_df.isnull().sum()/ms_df.shape[0]*100\n",
    "           })\n",
    "\n",
    "\n"
   ]
  },
  {
   "cell_type": "code",
   "execution_count": 88,
   "id": "3da71dec",
   "metadata": {},
   "outputs": [
    {
     "data": {
      "text/plain": [
       "['Census_ProcessorClass', 'Census_InternalBatteryType']"
      ]
     },
     "execution_count": 88,
     "metadata": {},
     "output_type": "execute_result"
    }
   ],
   "source": [
    "# Find columns which are having > 50% of null values\n",
    "\n",
    "cols_grt_50has=list(nainfo_df[nainfo_df['na-pc']>50]['col-name'])\n",
    "cols_grt_50has"
   ]
  },
  {
   "cell_type": "code",
   "execution_count": 89,
   "id": "0e644bfe",
   "metadata": {},
   "outputs": [],
   "source": [
    "# Drop columns which are having > 50% of null values\n",
    "\n",
    "ms_df.drop(columns=cols_grt_50has,inplace=True)"
   ]
  },
  {
   "cell_type": "code",
   "execution_count": 90,
   "id": "a583bf2f",
   "metadata": {},
   "outputs": [],
   "source": [
    "#Seperate Output columns from Data Frame\n",
    "\n",
    "y=ms_df['HasDetections']\n",
    "ms_df.drop(columns='HasDetections',inplace=True)\n"
   ]
  },
  {
   "cell_type": "code",
   "execution_count": 91,
   "id": "d46c7a9b",
   "metadata": {},
   "outputs": [],
   "source": [
    "#Train Test Split\n",
    "\n",
    "from sklearn.model_selection import train_test_split\n",
    "\n",
    "x_train,x_test,y_train,y_test=train_test_split(ms_df,y,random_state=44,test_size=0.25)"
   ]
  },
  {
   "cell_type": "code",
   "execution_count": 92,
   "id": "d283437e",
   "metadata": {},
   "outputs": [],
   "source": [
    "# Get continous/Categorical variables from Data Frame\n",
    "\n",
    "con_cols_main=[col for col in ms_df.columns if ms_df[col].dtype=='int64' or ms_df[col].dtype=='float64']\n",
    "cat_cols_main=[col for col in ms_df.columns if ms_df[col].dtype=='object']\n"
   ]
  },
  {
   "cell_type": "code",
   "execution_count": 93,
   "id": "5b8a9ade",
   "metadata": {},
   "outputs": [],
   "source": [
    "# fill missing values in X_train, X_test\n",
    "\n",
    "for col in con_cols_main:\n",
    "    x_train[col].fillna(x_train[col].mean(),inplace=True)\n",
    "    x_test[col].fillna(x_train[col].mean(),inplace=True)\n",
    "    \n",
    "for col in cat_cols_main:\n",
    "    x_train[col].fillna(x_train[col].mode()[0],inplace=True)\n",
    "    x_test[col].fillna(x_train[col].mode()[0],inplace=True)\n"
   ]
  },
  {
   "cell_type": "code",
   "execution_count": 94,
   "id": "d2a3f733",
   "metadata": {},
   "outputs": [],
   "source": [
    "#Scale continous variables\n",
    "\n",
    "from sklearn.preprocessing import StandardScaler\n",
    "import numpy as np\n",
    "\n",
    "scaler=StandardScaler()\n",
    "\n",
    "for col in con_cols_main:\n",
    "    x_train[col]=scaler.fit_transform(np.array(x_train[col]).reshape(-1,1))\n",
    "    x_test[col]=scaler.transform(np.array(x_test[col]).reshape(-1,1))"
   ]
  },
  {
   "cell_type": "code",
   "execution_count": 95,
   "id": "26f179c7",
   "metadata": {},
   "outputs": [],
   "source": [
    "# Encode categorical variable\n",
    "\n",
    "oe_train=pd.get_dummies(x_train[cat_cols_main])\n",
    "oe_test=pd.get_dummies(x_test[cat_cols_main])\n",
    "\n",
    "oe_train_final,oe_test_final=oe_train.align(oe_test,join='inner',axis=1)\n",
    "\n",
    "x_train_final=pd.concat([x_train[con_cols_main],oe_train_final],axis=1)\n",
    "x_test_final=pd.concat([x_test[con_cols_main],oe_test_final],axis=1)"
   ]
  },
  {
   "cell_type": "code",
   "execution_count": 96,
   "id": "87369695",
   "metadata": {},
   "outputs": [
    {
     "data": {
      "text/plain": [
       "array([1, 1, 0, ..., 0, 1, 0], dtype=int64)"
      ]
     },
     "execution_count": 96,
     "metadata": {},
     "output_type": "execute_result"
    }
   ],
   "source": [
    "# Build Logistic regression model\n",
    "\n",
    "from sklearn.linear_model import LogisticRegression\n",
    "from sklearn.metrics import confusion_matrix,precision_score,recall_score,f1_score,roc_auc_score\n",
    "\n",
    "logreg=LogisticRegression()\n",
    "logreg.fit(x_train_final,y_train)\n",
    "y_test_pred=logreg.predict(x_test_final)\n",
    "y_test_pred"
   ]
  },
  {
   "cell_type": "code",
   "execution_count": 97,
   "id": "8cb794ea",
   "metadata": {},
   "outputs": [
    {
     "data": {
      "text/plain": [
       "array([[4434, 2563],\n",
       "       [2881, 4311]], dtype=int64)"
      ]
     },
     "execution_count": 97,
     "metadata": {},
     "output_type": "execute_result"
    }
   ],
   "source": [
    "# Confusion matrix\n",
    "confusion_matrix(y_test,y_test_pred)"
   ]
  },
  {
   "cell_type": "code",
   "execution_count": 98,
   "id": "7f0a8522",
   "metadata": {},
   "outputs": [
    {
     "data": {
      "text/plain": [
       "0.6271457666569683"
      ]
     },
     "execution_count": 98,
     "metadata": {},
     "output_type": "execute_result"
    }
   ],
   "source": [
    "# Precision Score\n",
    "precision_score(y_test,y_test_pred)"
   ]
  },
  {
   "cell_type": "code",
   "execution_count": 99,
   "id": "35200ec9",
   "metadata": {},
   "outputs": [
    {
     "data": {
      "text/plain": [
       "0.5994160177975528"
      ]
     },
     "execution_count": 99,
     "metadata": {},
     "output_type": "execute_result"
    }
   ],
   "source": [
    "#Recall score\n",
    "recall_score(y_test,y_test_pred)"
   ]
  },
  {
   "cell_type": "code",
   "execution_count": 100,
   "id": "9d4f8d52",
   "metadata": {},
   "outputs": [
    {
     "data": {
      "text/plain": [
       "0.6129674392151288"
      ]
     },
     "execution_count": 100,
     "metadata": {},
     "output_type": "execute_result"
    }
   ],
   "source": [
    "#F1 score\n",
    "f1_score(y_test,y_test_pred)"
   ]
  },
  {
   "cell_type": "code",
   "execution_count": 101,
   "id": "3e26480e",
   "metadata": {},
   "outputs": [
    {
     "data": {
      "text/plain": [
       "Text(0.5, 1.0, 'AUC curve')"
      ]
     },
     "execution_count": 101,
     "metadata": {},
     "output_type": "execute_result"
    },
    {
     "data": {
      "image/png": "[encoded data removed]",
      "text/plain": [
       "<Figure size 432x288 with 1 Axes>"
      ]
     },
     "metadata": {
      "needs_background": "light"
     },
     "output_type": "display_data"
    }
   ],
   "source": [
    "pos_proba=logreg.predict_proba(x_test_final)[::,1]\n",
    "pos_proba\n",
    "fpr,tpr,threshold=roc_curve(y_test,pos_proba)\n",
    "\n",
    "import matplotlib.pyplot as plt\n",
    "plt.plot(fpr,tpr)\n",
    "plt.xlabel('False Positive rate')\n",
    "plt.ylabel('True Positive rate')\n",
    "plt.title('AUC curve')"
   ]
  },
  {
   "cell_type": "code",
   "execution_count": 102,
   "id": "7cbeee54",
   "metadata": {},
   "outputs": [
    {
     "data": {
      "text/plain": [
       "array([[3960, 3037],\n",
       "       [3125, 4067]], dtype=int64)"
      ]
     },
     "execution_count": 102,
     "metadata": {},
     "output_type": "execute_result"
    }
   ],
   "source": [
    "#Decision tree\n",
    "from sklearn.tree import DecisionTreeClassifier\n",
    "dcstree=DecisionTreeClassifier()\n",
    "dcstree.fit(x_train_final,y_train)\n",
    "dcstree_pred=dcstree.predict(x_test_final)\n",
    "dcstree_pred\n",
    "confusion_matrix(y_test,dcstree_pred)"
   ]
  },
  {
   "cell_type": "code",
   "execution_count": null,
   "id": "2c2a2695",
   "metadata": {},
   "outputs": [],
   "source": []
  }
 ],
 "metadata": {
  "kernelspec": {
   "display_name": "Python 3",
   "language": "python",
   "name": "python3"
  },
  "language_info": {
   "codemirror_mode": {
    "name": "ipython",
    "version": 3
   },
   "file_extension": ".py",
   "mimetype": "text/x-python",
   "name": "python",
   "nbconvert_exporter": "python",
   "pygments_lexer": "ipython3",
   "version": "3.8.8"
  }
 },
 "nbformat": 4,
 "nbformat_minor": 5
}
